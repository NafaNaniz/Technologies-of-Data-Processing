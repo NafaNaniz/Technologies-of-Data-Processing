{
 "cells": [
  {
   "cell_type": "markdown",
   "metadata": {},
   "source": [
    "## Оптимизация выполнения кода, векторизация, Numba"
   ]
  },
  {
   "cell_type": "markdown",
   "metadata": {},
   "source": [
    "Материалы:\n",
    "* Макрушин С.В. Лекция 3: Оптимизация выполнения кода, векторизация, Numba\n",
    "* IPython Cookbook, Second Edition (2018), глава 4\n",
    "* https://numba.pydata.org/numba-doc/latest/user/5minguide.html"
   ]
  },
  {
   "cell_type": "markdown",
   "metadata": {},
   "source": [
    "## Лабораторная работа 3"
   ]
  },
  {
   "cell_type": "markdown",
   "metadata": {},
   "source": [
    "1. В файлах `recipes_sample.csv` и `reviews_sample.csv` (__ЛР 2__) находится информация об рецептах блюд и отзывах на эти рецепты соответственно. Загрузите данные из файлов в виде `pd.DataFrame` с названиями `recipes` и `reviews`. Обратите внимание на корректное считывание столбца(ов) с индексами. Приведите столбцы к нужным типам.\n",
    "\n",
    "Реализуйте несколько вариантов функции подсчета среднего значения столбца `rating` из таблицы `reviews` для отзывов, оставленных в 2010 году.\n",
    "\n",
    "A. С использованием метода `DataFrame.iterrows` исходной таблицы;\n",
    "\n",
    "Б. С использованием метода `DataFrame.iterrows` таблицы, в которой сохранены только отзывы за 2010 год;\n",
    "\n",
    "В. С использованием метода `Series.mean`.\n",
    "\n",
    "Проверьте, что результаты работы всех написанных функций корректны и совпадают. Измерьте выполнения всех написанных функций.\n"
   ]
  },
  {
   "cell_type": "code",
   "execution_count": null,
   "metadata": {},
   "outputs": [],
   "source": [
    "import pandas as pd"
   ]
  },
  {
   "cell_type": "code",
   "execution_count": 4,
   "metadata": {},
   "outputs": [],
   "source": [
    "def my_iterrows():\n",
    "    suma = 0\n",
    "    counter = 0\n",
    "    for index, row in reviews.iterrows():\n",
    "        if '2011-01-01' > row.date >= '20010-01-01':\n",
    "            counter += 1\n",
    "            suma += row['rating']\n",
    "    return suma / counter\n",
    "\n",
    "def my_iterrows_2010():\n",
    "    suma = 0\n",
    "    for index, row in reviews_2010.iterrows():\n",
    "        suma += row['rating']\n",
    "    return suma / reviews_2010.shape[0]\n",
    "\n",
    "def Series_mean():\n",
    "    return reviews_2010.mean()\n",
    "\n",
    "reviews = pd.read_csv('reviews_visualization.csv', delimiter=',', index_col=0)\n",
    "reviews_2010 = reviews[(reviews.date >= '20010-01-01') & (reviews.date <'2011-01-01')]"
   ]
  },
  {
   "cell_type": "code",
   "execution_count": 7,
   "metadata": {},
   "outputs": [
    {
     "name": "stdout",
     "output_type": "stream",
     "text": [
      "CPU times: total: 0 ns\n",
      "Wall time: 0 ns\n",
      "4.5230757650702165\n"
     ]
    }
   ],
   "source": [
    "%time\n",
    "print(my_iterrows())"
   ]
  },
  {
   "cell_type": "code",
   "execution_count": 8,
   "metadata": {},
   "outputs": [
    {
     "name": "stdout",
     "output_type": "stream",
     "text": [
      "CPU times: total: 0 ns\n",
      "Wall time: 940 µs\n",
      "4.5230757650702165\n"
     ]
    }
   ],
   "source": [
    "%time\n",
    "print(my_iterrows_2010())"
   ]
  },
  {
   "cell_type": "code",
   "execution_count": null,
   "metadata": {},
   "outputs": [
    {
     "name": "stdout",
     "output_type": "stream",
     "text": [
      "CPU times: total: 0 ns\n",
      "Wall time: 0 ns\n"
     ]
    }
   ],
   "source": [
    "%time\n",
    "print(Series_mean())"
   ]
  },
  {
   "cell_type": "markdown",
   "metadata": {},
   "source": [
    "2. Какая из созданных функций выполняется медленнее? Что наиболее сильно влияет на скорость выполнения? Для ответа использовать профайлер `line_profiler`. Сохраните результаты работы профайлера в отдельную текстовую ячейку и прокомментируйте результаты его работы.\n",
    "\n",
    "(*). Сможете ли вы ускорить работу функции 1Б, отказавшись от использования метода `iterrows`, но не используя метод `mean`?"
   ]
  },
  {
   "cell_type": "code",
   "execution_count": 22,
   "metadata": {},
   "outputs": [
    {
     "name": "stdout",
     "output_type": "stream",
     "text": [
      "Defaulting to user installation because normal site-packages is not writeable\n",
      "Requirement already satisfied: line_profiler in c:\\users\\нафа\\appdata\\roaming\\python\\python39\\site-packages (4.0.3)\n",
      "The line_profiler extension is already loaded. To reload it, use:\n",
      "  %reload_ext line_profiler\n",
      "4.5230757650702165\n"
     ]
    }
   ],
   "source": [
    "!pip install line_profiler\n",
    "%load_ext line_profiler\n",
    "def my_iterrows_2010():\n",
    "    suma = 0\n",
    "    for index, row in reviews_2010.iterrows():\n",
    "        suma += row['rating']\n",
    "    return suma / reviews_2010.shape[0]\n",
    "\n",
    "print(my_iterrows_2010())\n",
    "%lprun -f my_iterrows_2010 my_iterrows_2010()"
   ]
  },
  {
   "cell_type": "markdown",
   "metadata": {},
   "source": [
    "3. Вам предлагается воспользоваться функцией, которая собирает статистику о том, сколько отзывов содержат то или иное слово. Измерьте время выполнения этой функции. Сможете ли вы найти узкие места в коде, используя профайлер? Выпишите (словами), что в имеющемся коде реализовано неоптимально. Оптимизируйте функцию и добейтесь значительного (как минимум, на один порядок) прироста в скорости выполнения."
   ]
  },
  {
   "cell_type": "code",
   "execution_count": 28,
   "metadata": {},
   "outputs": [
    {
     "name": "stdout",
     "output_type": "stream",
     "text": [
      "Defaulting to user installation because normal site-packages is not writeable\n",
      "Requirement already satisfied: line_profiler in c:\\users\\нафа\\appdata\\roaming\\python\\python39\\site-packages (4.0.3)\n",
      "The line_profiler extension is already loaded. To reload it, use:\n",
      "  %reload_ext line_profiler\n"
     ]
    }
   ],
   "source": [
    "!pip install line_profiler\n",
    "%load_ext line_profiler\n",
    "def get_word_reviews_count(df):\n",
    "    word_reviews = {}\n",
    "    for _, row in df.dropna(subset=['review']).iterrows():\n",
    "        recipe_id, review = row['recipe_id'], row['review']\n",
    "        words = review.split(' ')\n",
    "        for word in words:\n",
    "            if word not in word_reviews:\n",
    "                word_reviews[word] = []\n",
    "            word_reviews[word].append(recipe_id)\n",
    "    \n",
    "    word_reviews_count = {}\n",
    "    for _, row in df.dropna(subset=['review']).iterrows():\n",
    "        review = row['review']\n",
    "        words = review.split(' ')\n",
    "        for word in words:\n",
    "            word_reviews_count[word] = len(word_reviews[word])\n",
    "    return word_reviews_count\n",
    "\n",
    "reviews = pd.read_csv('reviews_visualization.csv', delimiter=',', index_col=0)\n",
    "%lprun -f get_word_reviews_count get_word_reviews_count(reviews)"
   ]
  },
  {
   "cell_type": "markdown",
   "metadata": {},
   "source": [
    "4. Напишите несколько версий функции `MAPE` (см. [MAPE](https://en.wikipedia.org/wiki/Mean_absolute_percentage_error)) для расчета среднего абсолютного процентного отклонения значения рейтинга отзыва на рецепт от среднего значения рейтинга по всем отзывам для этого рецепта. \n",
    "    1. Без использования векторизованных операций и методов массивов `numpy` и без использования `numba`\n",
    "    2. Без использования векторизованных операций и методов массивов `numpy`, но с использованием `numba`\n",
    "    3. С использованием векторизованных операций и методов массивов `numpy`, но без использования `numba`\n",
    "    4. C использованием векторизованных операций и методов массивов `numpy` и `numba`\n",
    "    \n",
    "Измерьте время выполнения каждой из реализаций.\n",
    "\n",
    "Замечание: удалите из выборки отзывы с нулевым рейтингом.\n"
   ]
  },
  {
   "cell_type": "code",
   "execution_count": 51,
   "metadata": {},
   "outputs": [
    {
     "name": "stdout",
     "output_type": "stream",
     "text": [
      "960803    0.403226\n",
      "960847    3.629032\n",
      "960848    3.629032\n",
      "960801    9.274194\n",
      "960799    3.629032\n",
      "960800    3.629032\n",
      "960797    9.274194\n",
      "960798    3.629032\n",
      "Name: rating, dtype: float64\n"
     ]
    }
   ],
   "source": [
    "def MAPE1(recipe):\n",
    "    absolute_deviation = 0\n",
    "    reviews_recipe = reviews[reviews['recipe_id']==recipe]\n",
    "    n = len(reviews_recipe)\n",
    "    mean_rating = reviews_recipe.rating.sum() / n\n",
    "    for name, value in reviews_recipe[['rating']].iteritems():\n",
    "        absolute_deviation += abs(value - mean_rating)\n",
    "    mape = absolute_deviation/n/mean_rating*100\n",
    "    return mape\n",
    "\n",
    "reviews = pd.read_csv('reviews_visualization.csv', delimiter=',', index_col=0)\n",
    "print(MAPE1(21752))"
   ]
  },
  {
   "cell_type": "code",
   "execution_count": 64,
   "metadata": {},
   "outputs": [
    {
     "ename": "TypingError",
     "evalue": "Failed in nopython mode pipeline (step: nopython frontend)\n\u001b[1m\u001b[1m\u001b[1mNo implementation of function Function(<built-in function getitem>) found for signature:\n \n >>> getitem(readonly array(pyobject, 2d, F), Literal[str](recipe_id))\n \nThere are 22 candidate implementations:\n\u001b[1m  - Of which 20 did not match due to:\n  Overload of function 'getitem': File: <numerous>: Line N/A.\n    With argument(s): '(readonly array(pyobject, 2d, F), unicode_type)':\u001b[0m\n\u001b[1m   No match.\u001b[0m\n\u001b[1m  - Of which 1 did not match due to:\n  Overload in function 'GetItemBuffer.generic': File: numba\\core\\typing\\arraydecl.py: Line 166.\n    With argument(s): '(readonly array(pyobject, 2d, F), unicode_type)':\u001b[0m\n\u001b[1m   Rejected as the implementation raised a specific error:\n     NumbaTypeError: \u001b[1munsupported array index type unicode_type in [unicode_type]\u001b[0m\u001b[0m\n  raised from C:\\anaconda3\\lib\\site-packages\\numba\\core\\typing\\arraydecl.py:72\n\u001b[1m  - Of which 1 did not match due to:\n  Overload in function 'GetItemBuffer.generic': File: numba\\core\\typing\\arraydecl.py: Line 166.\n    With argument(s): '(readonly array(pyobject, 2d, F), Literal[str](recipe_id))':\u001b[0m\n\u001b[1m   Rejected as the implementation raised a specific error:\n     NumbaTypeError: \u001b[1munsupported array index type Literal[str](recipe_id) in [Literal[str](recipe_id)]\u001b[0m\u001b[0m\n  raised from C:\\anaconda3\\lib\\site-packages\\numba\\core\\typing\\arraydecl.py:72\n\u001b[0m\n\u001b[0m\u001b[1mDuring: typing of intrinsic-call at C:\\Users\\Нафа\\AppData\\Local\\Temp\\ipykernel_228\\394714276.py (6)\u001b[0m\n\u001b[0m\u001b[1mDuring: typing of static-get-item at C:\\Users\\Нафа\\AppData\\Local\\Temp\\ipykernel_228\\394714276.py (6)\u001b[0m\n\u001b[1m\nFile \"..\\..\\AppData\\Local\\Temp\\ipykernel_228\\394714276.py\", line 6:\u001b[0m\n\u001b[1m<source missing, REPL/exec in use?>\u001b[0m\n",
     "output_type": "error",
     "traceback": [
      "\u001b[1;31m---------------------------------------------------------------------------\u001b[0m",
      "\u001b[1;31mTypingError\u001b[0m                               Traceback (most recent call last)",
      "Input \u001b[1;32mIn [64]\u001b[0m, in \u001b[0;36m<cell line: 15>\u001b[1;34m()\u001b[0m\n\u001b[0;32m     13\u001b[0m reviews \u001b[38;5;241m=\u001b[39m pd\u001b[38;5;241m.\u001b[39mread_csv(\u001b[38;5;124m'\u001b[39m\u001b[38;5;124mreviews_visualization.csv\u001b[39m\u001b[38;5;124m'\u001b[39m, delimiter\u001b[38;5;241m=\u001b[39m\u001b[38;5;124m'\u001b[39m\u001b[38;5;124m,\u001b[39m\u001b[38;5;124m'\u001b[39m, index_col\u001b[38;5;241m=\u001b[39m\u001b[38;5;241m0\u001b[39m)\n\u001b[0;32m     14\u001b[0m reviews \u001b[38;5;241m=\u001b[39m reviews\u001b[38;5;241m.\u001b[39mto_numpy()\n\u001b[1;32m---> 15\u001b[0m \u001b[38;5;28mprint\u001b[39m(\u001b[43mMAPE2\u001b[49m\u001b[43m(\u001b[49m\u001b[38;5;241;43m21752\u001b[39;49m\u001b[43m)\u001b[49m)\n",
      "File \u001b[1;32mC:\\anaconda3\\lib\\site-packages\\numba\\core\\dispatcher.py:468\u001b[0m, in \u001b[0;36m_DispatcherBase._compile_for_args\u001b[1;34m(self, *args, **kws)\u001b[0m\n\u001b[0;32m    464\u001b[0m         msg \u001b[38;5;241m=\u001b[39m (\u001b[38;5;124mf\u001b[39m\u001b[38;5;124m\"\u001b[39m\u001b[38;5;132;01m{\u001b[39;00m\u001b[38;5;28mstr\u001b[39m(e)\u001b[38;5;241m.\u001b[39mrstrip()\u001b[38;5;132;01m}\u001b[39;00m\u001b[38;5;124m \u001b[39m\u001b[38;5;130;01m\\n\u001b[39;00m\u001b[38;5;130;01m\\n\u001b[39;00m\u001b[38;5;124mThis error may have been caused \u001b[39m\u001b[38;5;124m\"\u001b[39m\n\u001b[0;32m    465\u001b[0m                \u001b[38;5;124mf\u001b[39m\u001b[38;5;124m\"\u001b[39m\u001b[38;5;124mby the following argument(s):\u001b[39m\u001b[38;5;130;01m\\n\u001b[39;00m\u001b[38;5;132;01m{\u001b[39;00margs_str\u001b[38;5;132;01m}\u001b[39;00m\u001b[38;5;130;01m\\n\u001b[39;00m\u001b[38;5;124m\"\u001b[39m)\n\u001b[0;32m    466\u001b[0m         e\u001b[38;5;241m.\u001b[39mpatch_message(msg)\n\u001b[1;32m--> 468\u001b[0m     \u001b[43merror_rewrite\u001b[49m\u001b[43m(\u001b[49m\u001b[43me\u001b[49m\u001b[43m,\u001b[49m\u001b[43m \u001b[49m\u001b[38;5;124;43m'\u001b[39;49m\u001b[38;5;124;43mtyping\u001b[39;49m\u001b[38;5;124;43m'\u001b[39;49m\u001b[43m)\u001b[49m\n\u001b[0;32m    469\u001b[0m \u001b[38;5;28;01mexcept\u001b[39;00m errors\u001b[38;5;241m.\u001b[39mUnsupportedError \u001b[38;5;28;01mas\u001b[39;00m e:\n\u001b[0;32m    470\u001b[0m     \u001b[38;5;66;03m# Something unsupported is present in the user code, add help info\u001b[39;00m\n\u001b[0;32m    471\u001b[0m     error_rewrite(e, \u001b[38;5;124m'\u001b[39m\u001b[38;5;124munsupported_error\u001b[39m\u001b[38;5;124m'\u001b[39m)\n",
      "File \u001b[1;32mC:\\anaconda3\\lib\\site-packages\\numba\\core\\dispatcher.py:409\u001b[0m, in \u001b[0;36m_DispatcherBase._compile_for_args.<locals>.error_rewrite\u001b[1;34m(e, issue_type)\u001b[0m\n\u001b[0;32m    407\u001b[0m     \u001b[38;5;28;01mraise\u001b[39;00m e\n\u001b[0;32m    408\u001b[0m \u001b[38;5;28;01melse\u001b[39;00m:\n\u001b[1;32m--> 409\u001b[0m     \u001b[38;5;28;01mraise\u001b[39;00m e\u001b[38;5;241m.\u001b[39mwith_traceback(\u001b[38;5;28;01mNone\u001b[39;00m)\n",
      "\u001b[1;31mTypingError\u001b[0m: Failed in nopython mode pipeline (step: nopython frontend)\n\u001b[1m\u001b[1m\u001b[1mNo implementation of function Function(<built-in function getitem>) found for signature:\n \n >>> getitem(readonly array(pyobject, 2d, F), Literal[str](recipe_id))\n \nThere are 22 candidate implementations:\n\u001b[1m  - Of which 20 did not match due to:\n  Overload of function 'getitem': File: <numerous>: Line N/A.\n    With argument(s): '(readonly array(pyobject, 2d, F), unicode_type)':\u001b[0m\n\u001b[1m   No match.\u001b[0m\n\u001b[1m  - Of which 1 did not match due to:\n  Overload in function 'GetItemBuffer.generic': File: numba\\core\\typing\\arraydecl.py: Line 166.\n    With argument(s): '(readonly array(pyobject, 2d, F), unicode_type)':\u001b[0m\n\u001b[1m   Rejected as the implementation raised a specific error:\n     NumbaTypeError: \u001b[1munsupported array index type unicode_type in [unicode_type]\u001b[0m\u001b[0m\n  raised from C:\\anaconda3\\lib\\site-packages\\numba\\core\\typing\\arraydecl.py:72\n\u001b[1m  - Of which 1 did not match due to:\n  Overload in function 'GetItemBuffer.generic': File: numba\\core\\typing\\arraydecl.py: Line 166.\n    With argument(s): '(readonly array(pyobject, 2d, F), Literal[str](recipe_id))':\u001b[0m\n\u001b[1m   Rejected as the implementation raised a specific error:\n     NumbaTypeError: \u001b[1munsupported array index type Literal[str](recipe_id) in [Literal[str](recipe_id)]\u001b[0m\u001b[0m\n  raised from C:\\anaconda3\\lib\\site-packages\\numba\\core\\typing\\arraydecl.py:72\n\u001b[0m\n\u001b[0m\u001b[1mDuring: typing of intrinsic-call at C:\\Users\\Нафа\\AppData\\Local\\Temp\\ipykernel_228\\394714276.py (6)\u001b[0m\n\u001b[0m\u001b[1mDuring: typing of static-get-item at C:\\Users\\Нафа\\AppData\\Local\\Temp\\ipykernel_228\\394714276.py (6)\u001b[0m\n\u001b[1m\nFile \"..\\..\\AppData\\Local\\Temp\\ipykernel_228\\394714276.py\", line 6:\u001b[0m\n\u001b[1m<source missing, REPL/exec in use?>\u001b[0m\n"
     ]
    }
   ],
   "source": [
    "import numba\n",
    "from numba import jit, njit\n",
    "@jit(nopython=True)\n",
    "def MAPE2(recipe):\n",
    "    absolute_deviation = 0\n",
    "    reviews_recipe = reviews[reviews['recipe_id']==recipe]\n",
    "    n = len(reviews_recipe)\n",
    "    mean_rating = reviews_recipe.rating.sum() / n\n",
    "    for name, value in reviews_recipe[['rating']].iteritems():\n",
    "        absolute_deviation += abs(value - mean_rating)\n",
    "    mape = absolute_deviation/n/mean_rating*100\n",
    "    return mape\n",
    "reviews = pd.read_csv('reviews_visualization.csv', delimiter=',', index_col=0)\n",
    "reviews = reviews.to_numpy()\n",
    "print(MAPE2(21752))"
   ]
  },
  {
   "cell_type": "code",
   "execution_count": null,
   "metadata": {},
   "outputs": [],
   "source": [
    "import numpy as np\n",
    "from numba import jit"
   ]
  },
  {
   "cell_type": "code",
   "execution_count": 63,
   "metadata": {},
   "outputs": [
    {
     "ename": "AttributeError",
     "evalue": "'numpy.ndarray' object has no attribute 'to_numpy'",
     "output_type": "error",
     "traceback": [
      "\u001b[1;31m---------------------------------------------------------------------------\u001b[0m",
      "\u001b[1;31mAttributeError\u001b[0m                            Traceback (most recent call last)",
      "Input \u001b[1;32mIn [63]\u001b[0m, in \u001b[0;36m<cell line: 1>\u001b[1;34m()\u001b[0m\n\u001b[1;32m----> 1\u001b[0m reviews \u001b[38;5;241m=\u001b[39m \u001b[43mreviews\u001b[49m\u001b[38;5;241;43m.\u001b[39;49m\u001b[43mto_numpy\u001b[49m()\n\u001b[0;32m      2\u001b[0m \u001b[38;5;28mtype\u001b[39m(reviews)\n",
      "\u001b[1;31mAttributeError\u001b[0m: 'numpy.ndarray' object has no attribute 'to_numpy'"
     ]
    }
   ],
   "source": []
  },
  {
   "cell_type": "code",
   "execution_count": null,
   "metadata": {},
   "outputs": [],
   "source": []
  }
 ],
 "metadata": {
  "kernelspec": {
   "display_name": "Python 3 (ipykernel)",
   "language": "python",
   "name": "python3"
  },
  "language_info": {
   "codemirror_mode": {
    "name": "ipython",
    "version": 3
   },
   "file_extension": ".py",
   "mimetype": "text/x-python",
   "name": "python",
   "nbconvert_exporter": "python",
   "pygments_lexer": "ipython3",
   "version": "3.9.12"
  }
 },
 "nbformat": 4,
 "nbformat_minor": 4
}
